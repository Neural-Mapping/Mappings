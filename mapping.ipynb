{
 "cells": [
  {
   "cell_type": "code",
   "execution_count": 160,
   "metadata": {},
   "outputs": [],
   "source": [
    "import ssl\n",
    "ssl._create_default_https_context = ssl._create_unverified_context\n",
    "\n",
    "from sentinelhub import SHConfig\n",
    "from sentinelhub import (\n",
    "    CRS,\n",
    "    BBox,\n",
    "    DataCollection,\n",
    "    DownloadRequest,\n",
    "    MimeType,\n",
    "    MosaickingOrder,\n",
    "    SentinelHubDownloadClient,\n",
    "    SentinelHubRequest,\n",
    "    bbox_to_dimensions,\n",
    ")\n",
    "import folium\n",
    "from tqdm import tqdm\n",
    "import math"
   ]
  },
  {
   "cell_type": "code",
   "execution_count": 161,
   "metadata": {},
   "outputs": [],
   "source": [
    "from sentinelhub import SHConfig\n",
    "from dotenv import load_dotenv\n",
    "import os\n",
    "import numpy as np\n",
    "import datetime\n",
    "import os\n",
    "import matplotlib.pyplot as plt\n",
    "from sentinelhub import CRS, BBox, bbox_to_dimensions\n",
    "import cv2\n",
    "import ee"
   ]
  },
  {
   "cell_type": "code",
   "execution_count": 162,
   "metadata": {},
   "outputs": [],
   "source": [
    "config_sentinel = SHConfig(sh_client_id=os.environ.get(\"sh_client_id\"), sh_client_secret=os.environ.get(\"sh_client_secret\"))"
   ]
  },
  {
   "cell_type": "code",
   "execution_count": 163,
   "metadata": {},
   "outputs": [],
   "source": [
    "evalscript_lsm = \"\"\"\n",
    "function setup() {\n",
    "  return {\n",
    "    input: [\"B02\", \"B03\", \"B04\", \"B08\", \"B11\"],\n",
    "    output: { bands: 3 },\n",
    "  };\n",
    "}\n",
    "\n",
    "function stretch(val, min, max) { return (val - min) / (max - min); }\n",
    "\n",
    "function evaluatePixel(sample) {\n",
    "  var bsi = ((sample.B11 + sample.B04) - (sample.B08 + sample.B02)) / ((sample.B11 + sample.B04) + (sample.B08 + sample.B02));\n",
    "  var NDVI = index(sample.B08, sample.B04);\n",
    "  var NDWI = index(sample.B03, sample.B08);\n",
    "\n",
    "  // Set unavailable regions to black (e.g., non-land areas, invalid data)\n",
    "  if (!isFinite(bsi) || !isFinite(NDVI) || !isFinite(NDWI) || sample.B02 === 0) {\n",
    "    return [0, 0, 0]; // Black\n",
    "  }\n",
    "\n",
    "  if (NDWI > 0.15) {\n",
    "    return [0, 0.2, 1.0 * NDWI];\n",
    "  }\n",
    "  if ((sample.B11 > 0.8) || (NDVI < 0.15)) {\n",
    "    return [1.5, 0.7, -1];\n",
    "  }\n",
    "  if (NDVI > 0.25) {\n",
    "    return [0, 0.2 * NDVI, 0];\n",
    "  } else {\n",
    "    return [3.5 * bsi, 0.3, 0];\n",
    "  }\n",
    "}\n",
    "\"\"\""
   ]
  },
  {
   "cell_type": "code",
   "execution_count": 164,
   "metadata": {},
   "outputs": [],
   "source": [
    "from math import cos, radians\n",
    "\n",
    "def add_km_to_coordinates(lat, lon, d_lat_km, d_lon_km):\n",
    "    km_per_deg_lat = 111.32  # Constant\n",
    "    km_per_deg_lon = 111.32 * cos(radians(lat))  # Adjusted for latitude\n",
    "    new_lat = lat + (d_lat_km / km_per_deg_lat) # Convert km to degrees\n",
    "    new_lon = lon + (d_lon_km / km_per_deg_lon)\n",
    "\n",
    "    return new_lat, new_lon"
   ]
  },
  {
   "cell_type": "code",
   "execution_count": 165,
   "metadata": {},
   "outputs": [
    {
     "data": {
      "text/html": [
       "<div style=\"width:100%;\"><div style=\"position:relative;width:100%;height:0;padding-bottom:60%;\"><span style=\"color:#565656\">Make this Notebook Trusted to load map: File -> Trust Notebook</span><iframe srcdoc=\"&lt;!DOCTYPE html&gt;\n",
       "&lt;html&gt;\n",
       "&lt;head&gt;\n",
       "    \n",
       "    &lt;meta http-equiv=&quot;content-type&quot; content=&quot;text/html; charset=UTF-8&quot; /&gt;\n",
       "    \n",
       "        &lt;script&gt;\n",
       "            L_NO_TOUCH = false;\n",
       "            L_DISABLE_3D = false;\n",
       "        &lt;/script&gt;\n",
       "    \n",
       "    &lt;style&gt;html, body {width: 100%;height: 100%;margin: 0;padding: 0;}&lt;/style&gt;\n",
       "    &lt;style&gt;#map {position:absolute;top:0;bottom:0;right:0;left:0;}&lt;/style&gt;\n",
       "    &lt;script src=&quot;https://cdn.jsdelivr.net/npm/leaflet@1.9.3/dist/leaflet.js&quot;&gt;&lt;/script&gt;\n",
       "    &lt;script src=&quot;https://code.jquery.com/jquery-3.7.1.min.js&quot;&gt;&lt;/script&gt;\n",
       "    &lt;script src=&quot;https://cdn.jsdelivr.net/npm/bootstrap@5.2.2/dist/js/bootstrap.bundle.min.js&quot;&gt;&lt;/script&gt;\n",
       "    &lt;script src=&quot;https://cdnjs.cloudflare.com/ajax/libs/Leaflet.awesome-markers/2.0.2/leaflet.awesome-markers.js&quot;&gt;&lt;/script&gt;\n",
       "    &lt;link rel=&quot;stylesheet&quot; href=&quot;https://cdn.jsdelivr.net/npm/leaflet@1.9.3/dist/leaflet.css&quot;/&gt;\n",
       "    &lt;link rel=&quot;stylesheet&quot; href=&quot;https://cdn.jsdelivr.net/npm/bootstrap@5.2.2/dist/css/bootstrap.min.css&quot;/&gt;\n",
       "    &lt;link rel=&quot;stylesheet&quot; href=&quot;https://netdna.bootstrapcdn.com/bootstrap/3.0.0/css/bootstrap-glyphicons.css&quot;/&gt;\n",
       "    &lt;link rel=&quot;stylesheet&quot; href=&quot;https://cdn.jsdelivr.net/npm/@fortawesome/fontawesome-free@6.2.0/css/all.min.css&quot;/&gt;\n",
       "    &lt;link rel=&quot;stylesheet&quot; href=&quot;https://cdnjs.cloudflare.com/ajax/libs/Leaflet.awesome-markers/2.0.2/leaflet.awesome-markers.css&quot;/&gt;\n",
       "    &lt;link rel=&quot;stylesheet&quot; href=&quot;https://cdn.jsdelivr.net/gh/python-visualization/folium/folium/templates/leaflet.awesome.rotate.min.css&quot;/&gt;\n",
       "    \n",
       "            &lt;meta name=&quot;viewport&quot; content=&quot;width=device-width,\n",
       "                initial-scale=1.0, maximum-scale=1.0, user-scalable=no&quot; /&gt;\n",
       "            &lt;style&gt;\n",
       "                #map_ae6a362945dbbc3289df4f2c00aeb8e0 {\n",
       "                    position: relative;\n",
       "                    width: 100.0%;\n",
       "                    height: 100.0%;\n",
       "                    left: 0.0%;\n",
       "                    top: 0.0%;\n",
       "                }\n",
       "                .leaflet-container { font-size: 1rem; }\n",
       "            &lt;/style&gt;\n",
       "        \n",
       "&lt;/head&gt;\n",
       "&lt;body&gt;\n",
       "    \n",
       "    \n",
       "            &lt;div class=&quot;folium-map&quot; id=&quot;map_ae6a362945dbbc3289df4f2c00aeb8e0&quot; &gt;&lt;/div&gt;\n",
       "        \n",
       "&lt;/body&gt;\n",
       "&lt;script&gt;\n",
       "    \n",
       "    \n",
       "            var map_ae6a362945dbbc3289df4f2c00aeb8e0 = L.map(\n",
       "                &quot;map_ae6a362945dbbc3289df4f2c00aeb8e0&quot;,\n",
       "                {\n",
       "                    center: [29.168550699964072, 83.0151071297113],\n",
       "                    crs: L.CRS.EPSG3857,\n",
       "                    zoom: 4,\n",
       "                    zoomControl: true,\n",
       "                    preferCanvas: false,\n",
       "                }\n",
       "            );\n",
       "\n",
       "            \n",
       "\n",
       "        \n",
       "    \n",
       "            var tile_layer_b5f0d162651f9b0123590772a26ae706 = L.tileLayer(\n",
       "                &quot;https://server.arcgisonline.com/ArcGIS/rest/services/World_Imagery/MapServer/tile/{z}/{y}/{x}&quot;,\n",
       "                {&quot;attribution&quot;: &quot;Esri&quot;, &quot;detectRetina&quot;: false, &quot;maxZoom&quot;: 18, &quot;minZoom&quot;: 0, &quot;noWrap&quot;: false, &quot;opacity&quot;: 1, &quot;subdomains&quot;: &quot;abc&quot;, &quot;tms&quot;: false}\n",
       "            );\n",
       "        \n",
       "    \n",
       "            tile_layer_b5f0d162651f9b0123590772a26ae706.addTo(map_ae6a362945dbbc3289df4f2c00aeb8e0);\n",
       "        \n",
       "    \n",
       "            var rectangle_5d35a346406aa890eccb2694ae130aa2 = L.rectangle(\n",
       "                [[25.575306, 79.031548], [29.16855069996407, 83.0151071297113]],\n",
       "                {&quot;bubblingMouseEvents&quot;: true, &quot;color&quot;: &quot;red&quot;, &quot;dashArray&quot;: null, &quot;dashOffset&quot;: null, &quot;fill&quot;: &quot;pink&quot;, &quot;fillColor&quot;: &quot;red&quot;, &quot;fillOpacity&quot;: 0.2, &quot;fillRule&quot;: &quot;evenodd&quot;, &quot;lineCap&quot;: &quot;round&quot;, &quot;lineJoin&quot;: &quot;round&quot;, &quot;noClip&quot;: false, &quot;opacity&quot;: 1.0, &quot;smoothFactor&quot;: 1.0, &quot;stroke&quot;: true, &quot;weight&quot;: 3}\n",
       "            ).addTo(map_ae6a362945dbbc3289df4f2c00aeb8e0);\n",
       "        \n",
       "    \n",
       "            var rectangle_48dd7497d244063fc518fb6e46b6ae1d = L.rectangle(\n",
       "                [[29.16855069996407, 79.031548], [32.76179539992814, 83.0151071297113]],\n",
       "                {&quot;bubblingMouseEvents&quot;: true, &quot;color&quot;: &quot;red&quot;, &quot;dashArray&quot;: null, &quot;dashOffset&quot;: null, &quot;fill&quot;: &quot;pink&quot;, &quot;fillColor&quot;: &quot;red&quot;, &quot;fillOpacity&quot;: 0.2, &quot;fillRule&quot;: &quot;evenodd&quot;, &quot;lineCap&quot;: &quot;round&quot;, &quot;lineJoin&quot;: &quot;round&quot;, &quot;noClip&quot;: false, &quot;opacity&quot;: 1.0, &quot;smoothFactor&quot;: 1.0, &quot;stroke&quot;: true, &quot;weight&quot;: 3}\n",
       "            ).addTo(map_ae6a362945dbbc3289df4f2c00aeb8e0);\n",
       "        \n",
       "    \n",
       "            var rectangle_faf51f29394b030ad6e7beca7dfa32d6 = L.rectangle(\n",
       "                [[25.575306, 83.0151071297113], [29.16855069996407, 86.99866625942259]],\n",
       "                {&quot;bubblingMouseEvents&quot;: true, &quot;color&quot;: &quot;red&quot;, &quot;dashArray&quot;: null, &quot;dashOffset&quot;: null, &quot;fill&quot;: &quot;pink&quot;, &quot;fillColor&quot;: &quot;red&quot;, &quot;fillOpacity&quot;: 0.2, &quot;fillRule&quot;: &quot;evenodd&quot;, &quot;lineCap&quot;: &quot;round&quot;, &quot;lineJoin&quot;: &quot;round&quot;, &quot;noClip&quot;: false, &quot;opacity&quot;: 1.0, &quot;smoothFactor&quot;: 1.0, &quot;stroke&quot;: true, &quot;weight&quot;: 3}\n",
       "            ).addTo(map_ae6a362945dbbc3289df4f2c00aeb8e0);\n",
       "        \n",
       "    \n",
       "            var rectangle_d308c1b3acb8660fbb5d5f101039a24b = L.rectangle(\n",
       "                [[29.16855069996407, 83.0151071297113], [32.76179539992814, 86.99866625942259]],\n",
       "                {&quot;bubblingMouseEvents&quot;: true, &quot;color&quot;: &quot;red&quot;, &quot;dashArray&quot;: null, &quot;dashOffset&quot;: null, &quot;fill&quot;: &quot;pink&quot;, &quot;fillColor&quot;: &quot;red&quot;, &quot;fillOpacity&quot;: 0.2, &quot;fillRule&quot;: &quot;evenodd&quot;, &quot;lineCap&quot;: &quot;round&quot;, &quot;lineJoin&quot;: &quot;round&quot;, &quot;noClip&quot;: false, &quot;opacity&quot;: 1.0, &quot;smoothFactor&quot;: 1.0, &quot;stroke&quot;: true, &quot;weight&quot;: 3}\n",
       "            ).addTo(map_ae6a362945dbbc3289df4f2c00aeb8e0);\n",
       "        \n",
       "&lt;/script&gt;\n",
       "&lt;/html&gt;\" style=\"position:absolute;width:100%;height:100%;left:0;top:0;border:none !important;\" allowfullscreen webkitallowfullscreen mozallowfullscreen></iframe></div></div>"
      ],
      "text/plain": [
       "<folium.folium.Map at 0x14c413810>"
      ]
     },
     "execution_count": 165,
     "metadata": {},
     "output_type": "execute_result"
    }
   ],
   "source": [
    "grid = 3\n",
    "box_dim = 400 #450 km\n",
    "min_lat, min_lon  = 25.575306, 79.031548\n",
    "# max_lat, max_lon = add_km_to_coordinates(min_lat, min_lon, box_dim, box_dim)\n",
    "max_lat, max_lon = add_km_to_coordinates(min_lat, min_lon, box_dim * (grid - 1), box_dim * (grid - 1))\n",
    "\n",
    "# lat = [add_km_to_coordinates(min_lat, 0, i*box_dim, i*box_dim)[0] for i in range(grid)]\n",
    "# lon = [add_km_to_coordinates(0, min_lon, i*box_dim, i*box_dim)[1] for i in range(grid)]\n",
    "\n",
    "lat = [add_km_to_coordinates(min_lat, min_lon, i * box_dim, 0)[0] for i in range(grid)]\n",
    "lon = [add_km_to_coordinates(min_lat, min_lon, 0, i * box_dim)[1] for i in range(grid)]\n",
    "\n",
    "latlons = []\n",
    "for i in range(len(lat)-1):\n",
    "    for k in range(len(lon)-1):\n",
    "        latlons.append((lat[k], lon[i], lat[k+1], lon[i+1]))\n",
    "\n",
    "m = folium.Map(\n",
    "    location=[(min_lat + max_lat) / 2, (min_lon + max_lon) / 2],\n",
    "    zoom_start=4,\n",
    "    tiles='https://server.arcgisonline.com/ArcGIS/rest/services/World_Imagery/MapServer/tile/{z}/{y}/{x}',\n",
    "    attr='Esri'\n",
    ")\n",
    "\n",
    "cordinates = []\n",
    "for k in latlons:\n",
    "    cord = [(k[0], k[1]), (k[2], k[3])]\n",
    "    cordinates.append([k[1], k[0], k[3], k[2]])\n",
    "    folium.Rectangle(cord, color='red', fill='pink',fill_opcity=0.5).add_to(m)\n",
    "m"
   ]
  },
  {
   "cell_type": "code",
   "execution_count": 166,
   "metadata": {},
   "outputs": [],
   "source": [
    "def get_suseptibility_mapping(cordinates, box_dim=400, date_start = \"2024-04-07\", date_end = \"2024-04-07\"):\n",
    "    min_lat, min_lon  = cordinates\n",
    "\n",
    "    max_lat, max_lon = add_km_to_coordinates(min_lat, min_lon, box_dim, box_dim)\n",
    "\n",
    "    cords = [min_lon, min_lat, max_lon, max_lat]\n",
    "\n",
    "    bbox = BBox(bbox=cords, crs=CRS.WGS84)\n",
    "    size = bbox_to_dimensions(bbox, resolution=box_dim*1000/2490)\n",
    "\n",
    "    request_lms_color = SentinelHubRequest(\n",
    "            evalscript=evalscript_lsm,\n",
    "            input_data=[\n",
    "                SentinelHubRequest.input_data(\n",
    "                    data_collection=DataCollection.SENTINEL2_L1C,\n",
    "                    time_interval=(date_start, date_end),\n",
    "                )\n",
    "            ],\n",
    "            responses=[SentinelHubRequest.output_response(\"default\", MimeType.PNG)],\n",
    "            bbox=bbox,\n",
    "            size=size,\n",
    "            config=config_sentinel,\n",
    "        )\n",
    "\n",
    "    lms_response = request_lms_color.get_data()\n",
    "    return lms_response[0]\n",
    "\n",
    "# lms_mapping = get_suseptibility_mapping([cordinates[0][:2][1], cordinates[0][:2][0]])"
   ]
  },
  {
   "cell_type": "code",
   "execution_count": null,
   "metadata": {},
   "outputs": [],
   "source": [
    "lms_mapping = get_suseptibility_mapping([cordinates[0][:2][1], cordinates[0][:2][0]], date_end=\"2025-02-20\")\n",
    "plt.imshow(lms_mapping)"
   ]
  },
  {
   "cell_type": "code",
   "execution_count": 146,
   "metadata": {},
   "outputs": [
    {
     "data": {
      "text/plain": [
       "<matplotlib.image.AxesImage at 0x14c3fa990>"
      ]
     },
     "execution_count": 146,
     "metadata": {},
     "output_type": "execute_result"
    },
    {
     "data": {
      "image/png": "[encoded data removed]",
      "text/plain": [
       "<Figure size 640x480 with 1 Axes>"
      ]
     },
     "metadata": {},
     "output_type": "display_data"
    }
   ],
   "source": [
    "lms_mapping = get_suseptibility_mapping([cordinates[2][:2][1], cordinates[2][:2][0]])\n",
    "plt.imshow(lms_mapping)"
   ]
  },
  {
   "cell_type": "code",
   "execution_count": 158,
   "metadata": {},
   "outputs": [
    {
     "name": "stderr",
     "output_type": "stream",
     "text": [
      "Processing tiles:   0%|          | 0/4 [00:00<?, ?it/s]"
     ]
    },
    {
     "name": "stdout",
     "output_type": "stream",
     "text": [
      "Resizing image from (2479, 2451, 3) to (2490, 2490)\n"
     ]
    },
    {
     "name": "stderr",
     "output_type": "stream",
     "text": [
      "Processing tiles:  25%|██▌       | 1/4 [00:14<00:44, 14.92s/it]"
     ]
    },
    {
     "name": "stdout",
     "output_type": "stream",
     "text": [
      "Resizing image from (2482, 2443, 3) to (2490, 2490)\n"
     ]
    },
    {
     "name": "stderr",
     "output_type": "stream",
     "text": [
      "Processing tiles:  50%|█████     | 2/4 [00:28<00:28, 14.09s/it]"
     ]
    },
    {
     "name": "stdout",
     "output_type": "stream",
     "text": [
      "Resizing image from (2440, 2492, 3) to (2490, 2490)\n"
     ]
    },
    {
     "name": "stderr",
     "output_type": "stream",
     "text": [
      "Processing tiles:  75%|███████▌  | 3/4 [00:38<00:12, 12.09s/it]"
     ]
    },
    {
     "name": "stdout",
     "output_type": "stream",
     "text": [
      "Resizing image from (2438, 2489, 3) to (2490, 2490)\n"
     ]
    },
    {
     "name": "stderr",
     "output_type": "stream",
     "text": [
      "Processing tiles: 100%|██████████| 4/4 [00:49<00:00, 12.43s/it]\n"
     ]
    }
   ],
   "source": [
    "tiles = int(math.sqrt(len(cordinates)))  # Assuming len(cordinates) is a perfect square\n",
    "# tiles = 2\n",
    "grid_size = 2490\n",
    "image_size = grid_size * tiles\n",
    "\n",
    "large_image = np.zeros((image_size, image_size,3))\n",
    "\n",
    "for i, bbox in tqdm(enumerate(cordinates), total=len(cordinates), desc=\"Processing tiles\"):\n",
    "    col = i // tiles\n",
    "    row = i % tiles\n",
    "\n",
    "    x_start = col * grid_size\n",
    "    y_start = (tiles - 1 - row) * grid_size  # Invert row for bottom-left filling\n",
    "\n",
    "    # Extract correct lat/lon for bounding box\n",
    "    min_lon, min_lat, max_lon, max_lat = bbox\n",
    "    image = get_suseptibility_mapping([min_lat, min_lon])  # Should return (2450, 2450, 3)\n",
    "\n",
    "    # Ensure image is correctly sized\n",
    "    if image.shape[:2] != (grid_size, grid_size):\n",
    "        print(f\"Resizing image from {image.shape} to {(grid_size, grid_size)}\")\n",
    "        image = cv2.resize(image, (grid_size, grid_size))  # Resize if necessary\n",
    "\n",
    "    large_image[y_start:y_start + grid_size, x_start:x_start + grid_size, :] = image\n",
    "    plt.imsave(\"mapping.png\", large_image/255)\n"
   ]
  },
  {
   "cell_type": "code",
   "execution_count": 140,
   "metadata": {},
   "outputs": [
    {
     "data": {
      "text/plain": [
       "2490"
      ]
     },
     "execution_count": 140,
     "metadata": {},
     "output_type": "execute_result"
    }
   ],
   "source": [
    "grid_size"
   ]
  },
  {
   "cell_type": "code",
   "execution_count": 115,
   "metadata": {},
   "outputs": [
    {
     "name": "stderr",
     "output_type": "stream",
     "text": [
      "Clipping input data to the valid range for imshow with RGB data ([0..1] for floats or [0..255] for integers).\n"
     ]
    },
    {
     "data": {
      "text/plain": [
       "<matplotlib.image.AxesImage at 0x14c14f410>"
      ]
     },
     "execution_count": 115,
     "metadata": {},
     "output_type": "execute_result"
    },
    {
     "data": {
      "image/png": "[encoded data removed]",
      "text/plain": [
       "<Figure size 640x480 with 1 Axes>"
      ]
     },
     "metadata": {},
     "output_type": "display_data"
    }
   ],
   "source": [
    "plt.imshow(large_image)"
   ]
  }
 ],
 "metadata": {
  "kernelspec": {
   "display_name": "Python 3",
   "language": "python",
   "name": "python3"
  },
  "language_info": {
   "codemirror_mode": {
    "name": "ipython",
    "version": 3
   },
   "file_extension": ".py",
   "mimetype": "text/x-python",
   "name": "python",
   "nbconvert_exporter": "python",
   "pygments_lexer": "ipython3",
   "version": "3.11.5"
  }
 },
 "nbformat": 4,
 "nbformat_minor": 2
}
