{
 "cells": [
  {
   "cell_type": "code",
   "execution_count": null,
   "metadata": {},
   "outputs": [],
   "source": [
    "import ssl\n",
    "ssl._create_default_https_context = ssl._create_unverified_context\n",
    "\n",
    "from sentinelhub import SHConfig\n",
    "from sentinelhub import (\n",
    "    DataCollection,\n",
    "    MimeType,\n",
    "    SentinelHubRequest,\n",
    "    bbox_to_dimensions,\n",
    ")\n",
    "import folium\n",
    "from tqdm import tqdm\n",
    "import math"
   ]
  },
  {
   "cell_type": "code",
   "execution_count": 2,
   "metadata": {},
   "outputs": [],
   "source": [
    "from sentinelhub import SHConfig\n",
    "from dotenv import load_dotenv\n",
    "import os\n",
    "import numpy as np\n",
    "import datetime\n",
    "import os\n",
    "import matplotlib.pyplot as plt\n",
    "from sentinelhub import CRS, BBox, bbox_to_dimensions\n",
    "import cv2\n",
    "import ee\n",
    "\n",
    "config_sentinel = SHConfig(sh_client_id=os.environ.get(\"sh_client_id\"), sh_client_secret=os.environ.get(\"sh_client_secret\"))"
   ]
  },
  {
   "cell_type": "code",
   "execution_count": 49,
   "metadata": {},
   "outputs": [],
   "source": [
    "evalscript_lsm = \"\"\"\n",
    "function setup() {\n",
    "  return {\n",
    "    input: [\"B02\", \"B03\", \"B04\", \"B08\", \"B11\"],\n",
    "    output: { bands: 3 },\n",
    "  };\n",
    "}\n",
    "\n",
    "function calcIndex(x, y) {\n",
    "  return (x - y) / (x + y);\n",
    "}\n",
    "\n",
    "function clip(a) {\n",
    "  return Math.max(0, Math.min(1, a));\n",
    "}\n",
    "\n",
    "function evaluatePixel(sample) {\n",
    "  let bRatio = (sample.B03 - 0.175) / (0.39 - 0.175);\n",
    "  let NDGR = calcIndex(sample.B03, sample.B04);\n",
    "  let NDVI = calcIndex(sample.B08, sample.B04);\n",
    "  let NDWI = calcIndex(sample.B03, sample.B08);\n",
    "  let gain = 2.5;\n",
    "\n",
    "  // Handle invalid or non-land areas\n",
    "  if (!isFinite(NDGR) || !isFinite(NDVI) || !isFinite(NDWI) || sample.B02 === 0) {\n",
    "    return [0, 0, 0]; // Black\n",
    "  }\n",
    "\n",
    "  // Cloud Detection - Turn Clouds to Red\n",
    "  if (sample.B11 > 0.1 && bRatio > 0.001) {\n",
    "    return [0, 0, 0]; // Pure Red\n",
    "  }\n",
    "  if (sample.B11 > 0.1 && bRatio > 0 && NDGR > 0) {\n",
    "    return [1, 0, 0]; // Pure Red\n",
    "  }\n",
    "\n",
    "  // Water Detection\n",
    "  if (NDWI > 0.15) {\n",
    "    return [0, 0.2, 1.0 * NDWI];\n",
    "  }\n",
    "\n",
    "  // Other regions\n",
    "  if (sample.B11 > 0.95 || NDVI < 0.1) {\n",
    "    return [1.5, 0.7, -1]; // Special visualization\n",
    "  }\n",
    "\n",
    "  // Normal RGB Processing\n",
    "  return [sample.B04, sample.B03, sample.B02].map(a => clip(gain * a));\n",
    "}\n",
    "\"\"\""
   ]
  },
  {
   "cell_type": "code",
   "execution_count": 50,
   "metadata": {},
   "outputs": [],
   "source": [
    "def get_suseptibility_mapping(cordinates, box_dim=400, date_start = \"2024-04-12\", date_end = \"2024-04-12\", res=2100):\n",
    "    min_lat, min_lon, max_lat, max_lon  = cordinates\n",
    "\n",
    "    cords = [min_lon, min_lat, max_lon, max_lat]\n",
    "\n",
    "    bbox = BBox(bbox=cords, crs=CRS.WGS84)\n",
    "    size = bbox_to_dimensions(bbox, resolution=box_dim*1000/res)\n",
    "\n",
    "    request_lms_color = SentinelHubRequest(\n",
    "            evalscript=evalscript_lsm,\n",
    "            input_data=[\n",
    "                SentinelHubRequest.input_data(\n",
    "                    data_collection=DataCollection.SENTINEL2_L2A,\n",
    "                    time_interval=(date_start, date_end),\n",
    "                )\n",
    "            ],\n",
    "            responses=[SentinelHubRequest.output_response(\"default\", MimeType.PNG)],\n",
    "            bbox=bbox,\n",
    "            size=size,\n",
    "            config=config_sentinel,\n",
    "        )\n",
    "\n",
    "    lms_response = request_lms_color.get_data()\n",
    "    return lms_response[0]"
   ]
  },
  {
   "cell_type": "code",
   "execution_count": 51,
   "metadata": {},
   "outputs": [],
   "source": [
    "import math\n",
    "\n",
    "def generate_grid(top_left_lat, top_left_lon, grid_side = 9, distance=400000):\n",
    "    R = 6371000  # Earth's radius in meters\n",
    "    grid = []\n",
    "    \n",
    "    # Convert top-left latitude to radians\n",
    "    top_left_lat_rad = math.radians(top_left_lat)\n",
    "\n",
    "    # Compute shifts in degrees\n",
    "    delta_lat = (distance / R) * (180 / math.pi)\n",
    "    delta_lon = (distance / (R * math.cos(top_left_lat_rad))) * (180 / math.pi)\n",
    "\n",
    "    # Generate grid (9x9)\n",
    "    for row in range(grid_side):  # Move downward\n",
    "        for col in range(grid_side):  # Move right\n",
    "            min_lat = top_left_lat - (row * delta_lat)  # Move south\n",
    "            min_lon = top_left_lon + (col * delta_lon)  # Move east\n",
    "            max_lat = min_lat + delta_lat\n",
    "            max_lon = min_lon + delta_lon\n",
    "            grid.append([min_lat, min_lon, max_lat, max_lon])\n",
    "    \n",
    "    return grid\n",
    "\n",
    "# Test the function\n",
    "lat, lon = 11.464868870490513, 76.13516957235045\n",
    "distance = 2 * 1000  # 10 km\n",
    "g = generate_grid(lat, lon, distance=distance, grid_side=9)"
   ]
  },
  {
   "cell_type": "code",
   "execution_count": 52,
   "metadata": {},
   "outputs": [
    {
     "data": {
      "text/html": [
       "<div style=\"width:100%;\"><div style=\"position:relative;width:100%;height:0;padding-bottom:60%;\"><span style=\"color:#565656\">Make this Notebook Trusted to load map: File -> Trust Notebook</span><iframe srcdoc=\"&lt;!DOCTYPE html&gt;\n",
       "&lt;html&gt;\n",
       "&lt;head&gt;\n",
       "    \n",
       "    &lt;meta http-equiv=&quot;content-type&quot; content=&quot;text/html; charset=UTF-8&quot; /&gt;\n",
       "    \n",
       "        &lt;script&gt;\n",
       "            L_NO_TOUCH = false;\n",
       "            L_DISABLE_3D = false;\n",
       "        &lt;/script&gt;\n",
       "    \n",
       "    &lt;style&gt;html, body {width: 100%;height: 100%;margin: 0;padding: 0;}&lt;/style&gt;\n",
       "    &lt;style&gt;#map {position:absolute;top:0;bottom:0;right:0;left:0;}&lt;/style&gt;\n",
       "    &lt;script src=&quot;https://cdn.jsdelivr.net/npm/leaflet@1.9.3/dist/leaflet.js&quot;&gt;&lt;/script&gt;\n",
       "    &lt;script src=&quot;https://code.jquery.com/jquery-3.7.1.min.js&quot;&gt;&lt;/script&gt;\n",
       "    &lt;script src=&quot;https://cdn.jsdelivr.net/npm/bootstrap@5.2.2/dist/js/bootstrap.bundle.min.js&quot;&gt;&lt;/script&gt;\n",
       "    &lt;script src=&quot;https://cdnjs.cloudflare.com/ajax/libs/Leaflet.awesome-markers/2.0.2/leaflet.awesome-markers.js&quot;&gt;&lt;/script&gt;\n",
       "    &lt;link rel=&quot;stylesheet&quot; href=&quot;https://cdn.jsdelivr.net/npm/leaflet@1.9.3/dist/leaflet.css&quot;/&gt;\n",
       "    &lt;link rel=&quot;stylesheet&quot; href=&quot;https://cdn.jsdelivr.net/npm/bootstrap@5.2.2/dist/css/bootstrap.min.css&quot;/&gt;\n",
       "    &lt;link rel=&quot;stylesheet&quot; href=&quot;https://netdna.bootstrapcdn.com/bootstrap/3.0.0/css/bootstrap-glyphicons.css&quot;/&gt;\n",
       "    &lt;link rel=&quot;stylesheet&quot; href=&quot;https://cdn.jsdelivr.net/npm/@fortawesome/fontawesome-free@6.2.0/css/all.min.css&quot;/&gt;\n",
       "    &lt;link rel=&quot;stylesheet&quot; href=&quot;https://cdnjs.cloudflare.com/ajax/libs/Leaflet.awesome-markers/2.0.2/leaflet.awesome-markers.css&quot;/&gt;\n",
       "    &lt;link rel=&quot;stylesheet&quot; href=&quot;https://cdn.jsdelivr.net/gh/python-visualization/folium/folium/templates/leaflet.awesome.rotate.min.css&quot;/&gt;\n",
       "    \n",
       "            &lt;meta name=&quot;viewport&quot; content=&quot;width=device-width,\n",
       "                initial-scale=1.0, maximum-scale=1.0, user-scalable=no&quot; /&gt;\n",
       "            &lt;style&gt;\n",
       "                #map_11786cc885ea26b590f740c7d3daba6b {\n",
       "                    position: relative;\n",
       "                    width: 100.0%;\n",
       "                    height: 100.0%;\n",
       "                    left: 0.0%;\n",
       "                    top: 0.0%;\n",
       "                }\n",
       "                .leaflet-container { font-size: 1rem; }\n",
       "            &lt;/style&gt;\n",
       "        \n",
       "&lt;/head&gt;\n",
       "&lt;body&gt;\n",
       "    \n",
       "    \n",
       "            &lt;div class=&quot;folium-map&quot; id=&quot;map_11786cc885ea26b590f740c7d3daba6b&quot; &gt;&lt;/div&gt;\n",
       "        \n",
       "&lt;/body&gt;\n",
       "&lt;script&gt;\n",
       "    \n",
       "    \n",
       "            var map_11786cc885ea26b590f740c7d3daba6b = L.map(\n",
       "                &quot;map_11786cc885ea26b590f740c7d3daba6b&quot;,\n",
       "                {\n",
       "                    center: [33.23119, 75.18916],\n",
       "                    crs: L.CRS.EPSG3857,\n",
       "                    zoom: 15,\n",
       "                    zoomControl: true,\n",
       "                    preferCanvas: false,\n",
       "                }\n",
       "            );\n",
       "\n",
       "            \n",
       "\n",
       "        \n",
       "    \n",
       "            var tile_layer_d3566976dc435e333bdd99df5b852a7d = L.tileLayer(\n",
       "                &quot;https://server.arcgisonline.com/ArcGIS/rest/services/World_Imagery/MapServer/tile/{z}/{y}/{x}&quot;,\n",
       "                {&quot;attribution&quot;: &quot;Esri&quot;, &quot;detectRetina&quot;: false, &quot;maxZoom&quot;: 18, &quot;minZoom&quot;: 0, &quot;noWrap&quot;: false, &quot;opacity&quot;: 1, &quot;subdomains&quot;: &quot;abc&quot;, &quot;tms&quot;: false}\n",
       "            );\n",
       "        \n",
       "    \n",
       "            tile_layer_d3566976dc435e333bdd99df5b852a7d.addTo(map_11786cc885ea26b590f740c7d3daba6b);\n",
       "        \n",
       "    \n",
       "            var rectangle_f282fdffc77c8475dcd36b7191adf24d = L.rectangle(\n",
       "                [[33.23119, 75.18916], [33.276156080295934, 75.24291720494928]],\n",
       "                {&quot;bubblingMouseEvents&quot;: true, &quot;color&quot;: &quot;red&quot;, &quot;dashArray&quot;: null, &quot;dashOffset&quot;: null, &quot;fill&quot;: &quot;pink&quot;, &quot;fillColor&quot;: &quot;red&quot;, &quot;fillOpacity&quot;: 0.2, &quot;fillRule&quot;: &quot;evenodd&quot;, &quot;lineCap&quot;: &quot;round&quot;, &quot;lineJoin&quot;: &quot;round&quot;, &quot;noClip&quot;: false, &quot;opacity&quot;: 1.0, &quot;smoothFactor&quot;: 1.0, &quot;stroke&quot;: true, &quot;weight&quot;: 3}\n",
       "            ).addTo(map_11786cc885ea26b590f740c7d3daba6b);\n",
       "        \n",
       "&lt;/script&gt;\n",
       "&lt;/html&gt;\" style=\"position:absolute;width:100%;height:100%;left:0;top:0;border:none !important;\" allowfullscreen webkitallowfullscreen mozallowfullscreen></iframe></div></div>"
      ],
      "text/plain": [
       "<folium.folium.Map at 0x1697b9b10>"
      ]
     },
     "execution_count": 52,
     "metadata": {},
     "output_type": "execute_result"
    }
   ],
   "source": [
    "grid = 1\n",
    "box_dim = 5 # km\n",
    "min_lat, min_lon  = 33.23119, 75.18916\n",
    "\n",
    "g = generate_grid(min_lat, min_lon, distance=box_dim*1000, grid_side=grid)\n",
    "\n",
    "m = folium.Map(\n",
    "    location=(min_lat, min_lon),\n",
    "    zoom_start=15,\n",
    "    tiles='https://server.arcgisonline.com/ArcGIS/rest/services/World_Imagery/MapServer/tile/{z}/{y}/{x}',\n",
    "    attr='Esri'\n",
    ")\n",
    "for i in range(len(g)):\n",
    "    folium.Rectangle([(g[i][:2]), (g[i][2:])], color='red', fill='pink',fill_opcity=0.5).add_to(m)\n",
    "\n",
    "m"
   ]
  },
  {
   "cell_type": "code",
   "execution_count": 54,
   "metadata": {},
   "outputs": [
    {
     "name": "stdout",
     "output_type": "stream",
     "text": [
      "0 0 [33.23119, 75.18916, 33.276156080295934, 75.24291720494928] -> 0 1000 0 1000\n",
      "----\n"
     ]
    }
   ],
   "source": [
    "_box_dim = 1000 if box_dim < 100 else box_dim\n",
    "\n",
    "canvas = np.zeros(((grid) * _box_dim, (grid) * _box_dim, 3), dtype=np.uint8)\n",
    "\n",
    "row = 0\n",
    "col = 0\n",
    "\n",
    "for idx, i in enumerate(range(len(g))):\n",
    "\n",
    "    y_start = _box_dim * col\n",
    "    y_end = _box_dim * (col + 1)\n",
    "    x_start = _box_dim * row\n",
    "    x_end = _box_dim * (row + 1)\n",
    "\n",
    "    print(col, row, g[idx], \"->\", y_start, y_end, x_start, x_end) \n",
    "\n",
    "    canvas[y_start:y_end, x_start:x_end] = cv2.resize(get_suseptibility_mapping(g[idx], date_start=\"2024-05-06\", date_end=\"2024-05-06\", res=1000, box_dim=box_dim), (_box_dim,_box_dim))\n",
    "    plt.imsave(\"mapping5.png\", canvas)\n",
    "    row += 1  # Move to the next column\n",
    "\n",
    "    if (idx + 1) % math.sqrt(len(g)) == 0:\n",
    "        print(\"----\") \n",
    "        col += 1  # Move to the next row\n",
    "        row = 0  # Reset column position"
   ]
  },
  {
   "cell_type": "code",
   "execution_count": 72,
   "metadata": {},
   "outputs": [
    {
     "data": {
      "text/plain": [
       "9.0"
      ]
     },
     "execution_count": 72,
     "metadata": {},
     "output_type": "execute_result"
    }
   ],
   "source": [
    "math.sqrt(len(g))"
   ]
  },
  {
   "cell_type": "code",
   "execution_count": 71,
   "metadata": {},
   "outputs": [
    {
     "data": {
      "text/plain": [
       "(0, 1000, 3000, 4000)"
      ]
     },
     "execution_count": 71,
     "metadata": {},
     "output_type": "execute_result"
    }
   ],
   "source": [
    "y_start, y_end, x_start, x_end"
   ]
  },
  {
   "cell_type": "code",
   "execution_count": 73,
   "metadata": {},
   "outputs": [
    {
     "data": {
      "text/plain": [
       "81"
      ]
     },
     "execution_count": 73,
     "metadata": {},
     "output_type": "execute_result"
    }
   ],
   "source": [
    "len(g)"
   ]
  },
  {
   "cell_type": "code",
   "execution_count": null,
   "metadata": {},
   "outputs": [],
   "source": []
  }
 ],
 "metadata": {
  "kernelspec": {
   "display_name": "Python 3",
   "language": "python",
   "name": "python3"
  },
  "language_info": {
   "codemirror_mode": {
    "name": "ipython",
    "version": 3
   },
   "file_extension": ".py",
   "mimetype": "text/x-python",
   "name": "python",
   "nbconvert_exporter": "python",
   "pygments_lexer": "ipython3",
   "version": "3.11.5"
  }
 },
 "nbformat": 4,
 "nbformat_minor": 2
}
