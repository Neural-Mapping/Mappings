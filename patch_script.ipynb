{
 "cells": [
  {
   "cell_type": "code",
   "execution_count": 1,
   "metadata": {},
   "outputs": [
    {
     "name": "stderr",
     "output_type": "stream",
     "text": [
      "100%|██████████| 871/871 [00:59<00:00, 14.62it/s]"
     ]
    },
    {
     "name": "stdout",
     "output_type": "stream",
     "text": [
      "0\n"
     ]
    },
    {
     "name": "stderr",
     "output_type": "stream",
     "text": [
      "\n"
     ]
    }
   ],
   "source": [
    "import os\n",
    "import matplotlib.pyplot as plt\n",
    "from tqdm import tqdm\n",
    "\n",
    "black_count = 0\n",
    "black_file = []\n",
    "with open(\"Mapping Automation Completions.txt\", \"r\") as log_file:\n",
    "    content = log_file.read()  \n",
    "    files = content.splitlines()  \n",
    "    for file in tqdm(files):\n",
    "        true_color_pth = f\"{file}/{file}-True_Color-After.png\"\n",
    "        true_color = plt.imread(true_color_pth)\n",
    "        # print(true_color.mean())\n",
    "        if true_color.mean() < 0.25: \n",
    "            black_count += 1\n",
    "            black_file.append(file)\n",
    "print(black_count)"
   ]
  },
  {
   "cell_type": "code",
   "execution_count": 11,
   "metadata": {},
   "outputs": [
    {
     "data": {
      "text/plain": [
       "1.0"
      ]
     },
     "execution_count": 11,
     "metadata": {},
     "output_type": "execute_result"
    }
   ],
   "source": [
    "true_color.max()"
   ]
  },
  {
   "cell_type": "code",
   "execution_count": 17,
   "metadata": {},
   "outputs": [
    {
     "data": {
      "text/plain": [
       "['Jebel Marra Landslide',\n",
       " '2019 West Pokot Landslides',\n",
       " 'Campbell-Riverview Mud Debris',\n",
       " 'Landslide on road to longhouses at Sungai Pak Durin',\n",
       " 'Marquetalia Landslide',\n",
       " 'Oxenholme to Penrith Landslip',\n",
       " 'Cano Limon-Covenas Pipeline Landslide',\n",
       " 'Landslide on Sea to Sky Hwy',\n",
       " 'Crovie Landslide',\n",
       " 'Landslide on cliff wall of Cornish coast',\n",
       " 'Crotone Landslide',\n",
       " 'Flash Flood Dead Sea Hot Springs',\n",
       " 'Landslide in Plomari, Lesvos, Greece',\n",
       " 'Drain blocked in Sacramento',\n",
       " 'Rumming Road Mudslide Flips Car',\n",
       " 'US 101 Mudslide at Hoodsport, Milepost 330',\n",
       " 'Seahurst Park Landslide south of Sea Star Shelter',\n",
       " 'Glasgow-Edinburgh Railway Landslip at Winchburgh',\n",
       " 'Rattlesnake Ridge Creep Developing',\n",
       " 'CN Train Derailed by Mudslide west of Chetwynd',\n",
       " 'Cymmer Road Landslip',\n",
       " 'Cherondo Village Landslide Displaces 300',\n",
       " 'Landslide in Reifnitz_ Road single lane passable',\n",
       " 'Highway 224 Rock fall near Tong Road',\n",
       " 'Rockfall and mudslide in Pinzgau',\n",
       " 'Hotel in Ramsau hit by a huge avalanche',\n",
       " 'Northern Trentino-Alto Adige Landslide',\n",
       " 'Hope HW 3 Rock Slide',\n",
       " 'Old Creek Rd Mudslides',\n",
       " 'Fountain Valley Rock Slide',\n",
       " 'Heavy rains cause mudflows and debris flows across region of Paradise and Chico',\n",
       " 'Dinas Rhondda Landslide',\n",
       " 'Clinton Mudslide',\n",
       " 'Landslide collapses road into quarry in Borba, Portugal',\n",
       " 'Scenic Lakes Road Mudslide',\n",
       " 'Pissouri Landslide',\n",
       " 'Ahtopol Landslide',\n",
       " 'Silverhill Ave',\n",
       " 'Honey Run Road Debris Flow',\n",
       " 'Kintinian Mine Mudslide',\n",
       " 'Anglesey A545 Landslip',\n",
       " 'Rock fall on Railroad tracks between Phiding and Mahur Stations',\n",
       " 'https___www.itv.com_news_border_update_2018-11-04_landslip-closes-cumbrian-coastal-rail-route_',\n",
       " 'West Midlands rail Landslip',\n",
       " 'Mudslide causes flooding on SkyTrain tracks',\n",
       " 'Mt. Hebron Rd Mudslide',\n",
       " 'Township Rd 1513 Mudslide',\n",
       " 'Moberly Lake',\n",
       " 'R624 Mudslide in Cork',\n",
       " 'Driffield Road Landslide',\n",
       " 'Rest and Be Thankful Landslide',\n",
       " 'Cliff Walk Landslide',\n",
       " 'Rock fall on Makedonska Kamenica – Delcevo Road',\n",
       " 'Landslide onto Highway 299',\n",
       " 'Landslides in Plomari, Greece',\n",
       " 'Santa Cruz Mountains Mudslide',\n",
       " 'Landslide in Sturminster-Newton, England',\n",
       " 'Weekend downpour causes washouts and slides at parks in Vancouver area',\n",
       " 'Hwy 101 south Garibaldi Landslide',\n",
       " 'Burke-Gilman Trail Slide including 2 Downed Trees',\n",
       " 'Martin Street Mudslide in White Rock Hillside',\n",
       " 'Highland Boulevard Water Main Break causes Sinkhole',\n",
       " '7000 block Norma Beach Road Mudslide',\n",
       " 'Nott Terrace Mudslide in Schenectady',\n",
       " 'Erdrutsch verschüttet Straße zum Obersalzberg',\n",
       " 'Landslide of the Cliff near Orlowska Street',\n",
       " 'Valeni Dambovita Landslide',\n",
       " 'Historic Columbia River Highway small rockslide',\n",
       " 'Hokkaido Earthquake Triggers Deadly Landslide',\n",
       " 'Libas Elementary School Landslide',\n",
       " 'Sitio Gajo, Barangay Osiao Landslide',\n",
       " 'Three homes near Broseley Landslide',\n",
       " 'Highway 22 Rockslide west of Detroit',\n",
       " 'State Route 299 Landslide',\n",
       " 'Community road in Terfens closed after mudflow',\n",
       " 'Surprising landslide at the Königsweg',\n",
       " 'Landslide completely buries Wagrain main road',\n",
       " 'Landslide caused power outage in Söll_ Trees in power line',\n",
       " '2 dead, 4 missing in Calarca',\n",
       " 'Filzmooser Landesstraße (L219) was buried by a landslide',\n",
       " 'More mud and landslides in the Kirnitzschtal valley',\n",
       " 'Naga City quarry landslide',\n",
       " 'Highway 97 closed from mudslide',\n",
       " 'Homes destroyed in Guayabetal',\n",
       " 'Bukalasi Mudslides',\n",
       " 'Landslide in Merthyr Tydfil, Wales',\n",
       " 'Rockslide along Highway 3 East of Hope, BC',\n",
       " 'Feather River Canyon Debris Flow',\n",
       " 'Debris Flow',\n",
       " 'Rotacional Landslide',\n",
       " 'Kiyota Landslide',\n",
       " 'Whitley County Rockslide',\n",
       " 'Second Landslide Ashworth Road',\n",
       " 'Tarbert Peat Slide',\n",
       " 'Chuckanut Drive Rock Fall',\n",
       " 'Important rockfalls and landslides on National Road RN16 between Oued Laou and El Jebha',\n",
       " 'Tragedia en Valdivia']"
      ]
     },
     "execution_count": 17,
     "metadata": {},
     "output_type": "execute_result"
    }
   ],
   "source": [
    "black_file"
   ]
  },
  {
   "cell_type": "code",
   "execution_count": null,
   "metadata": {},
   "outputs": [],
   "source": []
  },
  {
   "cell_type": "code",
   "execution_count": null,
   "metadata": {},
   "outputs": [],
   "source": []
  },
  {
   "cell_type": "code",
   "execution_count": null,
   "metadata": {},
   "outputs": [],
   "source": []
  }
 ],
 "metadata": {
  "kernelspec": {
   "display_name": "Python 3",
   "language": "python",
   "name": "python3"
  },
  "language_info": {
   "codemirror_mode": {
    "name": "ipython",
    "version": 3
   },
   "file_extension": ".py",
   "mimetype": "text/x-python",
   "name": "python",
   "nbconvert_exporter": "python",
   "pygments_lexer": "ipython3",
   "version": "3.11.5"
  }
 },
 "nbformat": 4,
 "nbformat_minor": 2
}
