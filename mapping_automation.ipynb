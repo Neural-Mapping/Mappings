{
 "cells": [
  {
   "cell_type": "code",
   "execution_count": 18,
   "metadata": {},
   "outputs": [],
   "source": [
    "import requests\n",
    "from datetime import datetime, timedelta\n",
    "import os\n",
    "from dotenv import load_dotenv\n",
    "import ssl\n",
    "from utils import get_access_token\n",
    "\n",
    "# Search for available Sentinel-2 images\n",
    "def search_available_dates(lat, lon, target_date, max_days=30):\n",
    "    access_token = get_access_token()\n",
    "    \n",
    "    target_date = datetime.strptime(target_date, \"%Y-%m-%d\")\n",
    "    start_date = (target_date - timedelta(days=max_days)).strftime(\"%Y-%m-%d\")\n",
    "    end_date = (target_date + timedelta(days=max_days)).strftime(\"%Y-%m-%d\")\n",
    "    \n",
    "    url = \"https://services.sentinel-hub.com/api/v1/catalog/search\"\n",
    "    \n",
    "    headers = {\n",
    "        \"Authorization\": f\"Bearer {access_token}\",\n",
    "        \"Content-Type\": \"application/json\"\n",
    "    }\n",
    "    \n",
    "    payload = {\n",
    "        \"datetime\": f\"{start_date}T00:00:00Z/{end_date}T23:59:59Z\",\n",
    "        \"collections\": [\"sentinel-2-l2a\"],\n",
    "        \"limit\": 100,\n",
    "        \"intersects\": {\n",
    "            \"type\": \"Point\",\n",
    "            \"coordinates\": [lon, lat]\n",
    "        }\n",
    "    }\n",
    "    \n",
    "    response = requests.post(url, json=payload, headers=headers)\n",
    "    \n",
    "    if response.status_code != 200:\n",
    "        print(\"Error:\", response.json())\n",
    "        return None\n",
    "    \n",
    "    data = response.json().get(\"features\", [])\n",
    "    \n",
    "    if not data:\n",
    "        print(\"No available data found.\")\n",
    "        return None\n",
    "    \n",
    "    # Extract dates from the results\n",
    "    available_dates = sorted([datetime.strptime(item[\"properties\"][\"datetime\"], \"%Y-%m-%dT%H:%M:%SZ\") for item in data])\n",
    "    return available_dates\n",
    "\n"
   ]
  },
  {
   "cell_type": "code",
   "execution_count": 17,
   "metadata": {},
   "outputs": [],
   "source": [
    "def get_cloud_coverage(lat, lon, date_list):\n",
    "    access_token = get_access_token()\n",
    "    \n",
    "    url = \"https://services.sentinel-hub.com/api/v1/catalog/search\"\n",
    "    \n",
    "    headers = {\n",
    "        \"Authorization\": f\"Bearer {access_token}\",\n",
    "        \"Content-Type\": \"application/json\"\n",
    "    }\n",
    "    \n",
    "    cloud_coverage_results = {}\n",
    "    \n",
    "    for date in date_list:\n",
    "        start_date = datetime.strptime(date, \"%Y-%m-%d\").strftime(\"%Y-%m-%dT00:00:00Z\")\n",
    "        end_date = datetime.strptime(date, \"%Y-%m-%d\").strftime(\"%Y-%m-%dT23:59:59Z\")\n",
    "        \n",
    "        payload = {\n",
    "            \"datetime\": f\"{start_date}/{end_date}\",\n",
    "            \"collections\": [\"sentinel-2-l2a\"],\n",
    "            \"limit\": 1,  # Get only the first available image for that date\n",
    "            \"intersects\": {\n",
    "                \"type\": \"Point\",\n",
    "                \"coordinates\": [lon, lat]\n",
    "            }\n",
    "        }\n",
    "        \n",
    "        response = requests.post(url, json=payload, headers=headers)\n",
    "        \n",
    "        if response.status_code != 200:\n",
    "            print(f\"Error fetching data for {date}: {response.json()}\")\n",
    "            cloud_coverage_results[date] = None\n",
    "            continue\n",
    "        \n",
    "        data = response.json().get(\"features\", [])\n",
    "        \n",
    "        if not data:\n",
    "            cloud_coverage_results[date] = None\n",
    "        else:\n",
    "            cloud_coverage = data[0][\"properties\"].get(\"eo:cloud_cover\", \"Unknown\")\n",
    "            cloud_coverage_results[date] = cloud_coverage\n",
    "    \n",
    "    return cloud_coverage_results"
   ]
  },
  {
   "cell_type": "code",
   "execution_count": 19,
   "metadata": {},
   "outputs": [
    {
     "data": {
      "text/plain": [
       "{'2025-01-07': 13.45,\n",
       " '2025-01-12': 0.0,\n",
       " '2025-01-17': 57.11,\n",
       " '2025-01-22': 0.23,\n",
       " '2025-01-27': 0.83,\n",
       " '2025-02-01': 0.04,\n",
       " '2025-02-06': 18.9,\n",
       " '2025-02-11': 11.02,\n",
       " '2025-02-16': 68.75,\n",
       " '2025-02-21': 33.53,\n",
       " '2025-02-26': 7.18,\n",
       " '2025-03-03': 0.29}"
      ]
     },
     "execution_count": 19,
     "metadata": {},
     "output_type": "execute_result"
    }
   ],
   "source": [
    "latitude = 25.286611\n",
    "longitude = 55.462611\n",
    "target_date = \"2025-02-04\"  # YYYY-MM-DD format\n",
    "\n",
    "available_dates = search_available_dates(latitude, longitude, target_date)\n",
    "available_dates = [i.strftime(\"%Y-%m-%d\") for i in available_dates]\n",
    "available_dates_cloud_coverage = get_cloud_coverage(latitude, longitude, available_dates)\n",
    "available_dates_cloud_coverage"
   ]
  },
  {
   "cell_type": "code",
   "execution_count": null,
   "metadata": {},
   "outputs": [],
   "source": []
  }
 ],
 "metadata": {
  "kernelspec": {
   "display_name": "Python 3",
   "language": "python",
   "name": "python3"
  },
  "language_info": {
   "codemirror_mode": {
    "name": "ipython",
    "version": 3
   },
   "file_extension": ".py",
   "mimetype": "text/x-python",
   "name": "python",
   "nbconvert_exporter": "python",
   "pygments_lexer": "ipython3",
   "version": "3.11.5"
  }
 },
 "nbformat": 4,
 "nbformat_minor": 2
}
